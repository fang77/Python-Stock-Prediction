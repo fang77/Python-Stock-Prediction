{
 "cells": [
  {
   "cell_type": "markdown",
   "metadata": {},
   "source": [
    "DA 420 Final Project (Stock Price Prediction LTSM trading bot)"
   ]
  },
  {
   "cell_type": "code",
   "execution_count": 1,
   "metadata": {},
   "outputs": [
    {
     "name": "stdout",
     "output_type": "stream",
     "text": [
      "  symbol                       company_name  last_price   volume\n",
      "0   WISH                  ContextLogic Inc.       13.50  326.006\n",
      "1   TRCH  Torchlight Energy Resources, Inc.        9.92  371.420\n",
      "4   GSAT                   Globalstar, Inc.        1.51  155.832\n",
      "  symbol                       company_name  last_price   volume\n",
      "0   WISH                  ContextLogic Inc.       13.50  326.006\n",
      "1   TRCH  Torchlight Energy Resources, Inc.        9.92  371.420\n",
      "4   GSAT                   Globalstar, Inc.        1.51  155.832\n"
     ]
    }
   ],
   "source": [
    "# importing necessary packages\n",
    "\n",
    "import warnings\n",
    "warnings.filterwarnings('ignore')\n",
    "import pandas as pd\n",
    "import sys  \n",
    "sys.path.insert(0, r'C:\\Users\\Taterthot\\Desktop\\420 final')\n",
    "import ticker\n",
    "#import algo\n",
    "\n",
    "ticker_list = ticker.trending_ticker()\n",
    "print(ticker_list)"
   ]
  },
  {
   "cell_type": "code",
   "execution_count": 2,
   "metadata": {},
   "outputs": [
    {
     "name": "stdout",
     "output_type": "stream",
     "text": [
      "Please input your investment amount: 10000\n",
      "  symbol                       company_name  last_price   volume\n",
      "0   WISH                  ContextLogic Inc.       13.50  326.006\n",
      "1   TRCH  Torchlight Energy Resources, Inc.        9.92  371.420\n",
      "4   GSAT                   Globalstar, Inc.        1.51  155.832\n"
     ]
    },
    {
     "data": {
      "text/html": [
       "<div>\n",
       "<style scoped>\n",
       "    .dataframe tbody tr th:only-of-type {\n",
       "        vertical-align: middle;\n",
       "    }\n",
       "\n",
       "    .dataframe tbody tr th {\n",
       "        vertical-align: top;\n",
       "    }\n",
       "\n",
       "    .dataframe thead th {\n",
       "        text-align: right;\n",
       "    }\n",
       "</style>\n",
       "<table border=\"1\" class=\"dataframe\">\n",
       "  <thead>\n",
       "    <tr style=\"text-align: right;\">\n",
       "      <th></th>\n",
       "      <th>symbol</th>\n",
       "      <th>company_name</th>\n",
       "      <th>last_price</th>\n",
       "      <th>volume</th>\n",
       "    </tr>\n",
       "  </thead>\n",
       "  <tbody>\n",
       "    <tr>\n",
       "      <th>0</th>\n",
       "      <td>WISH</td>\n",
       "      <td>ContextLogic Inc.</td>\n",
       "      <td>13.50</td>\n",
       "      <td>326.006</td>\n",
       "    </tr>\n",
       "    <tr>\n",
       "      <th>1</th>\n",
       "      <td>TRCH</td>\n",
       "      <td>Torchlight Energy Resources, Inc.</td>\n",
       "      <td>9.92</td>\n",
       "      <td>371.420</td>\n",
       "    </tr>\n",
       "    <tr>\n",
       "      <th>4</th>\n",
       "      <td>GSAT</td>\n",
       "      <td>Globalstar, Inc.</td>\n",
       "      <td>1.51</td>\n",
       "      <td>155.832</td>\n",
       "    </tr>\n",
       "  </tbody>\n",
       "</table>\n",
       "</div>"
      ],
      "text/plain": [
       "  symbol                       company_name  last_price   volume\n",
       "0   WISH                  ContextLogic Inc.       13.50  326.006\n",
       "1   TRCH  Torchlight Energy Resources, Inc.        9.92  371.420\n",
       "4   GSAT                   Globalstar, Inc.        1.51  155.832"
      ]
     },
     "execution_count": 2,
     "metadata": {},
     "output_type": "execute_result"
    }
   ],
   "source": [
    "def main():\n",
    "    budget = float(input(\"Please input your investment amount: \"))\n",
    "    \n",
    "    # stock symbols to look into within price range\n",
    "    counter = 0\n",
    "    ticker_list[\"last_price\"] = pd.to_numeric(ticker_list[\"last_price\"])\n",
    "    trade_list = ticker_list[ticker_list['last_price'] <= budget] \n",
    "        \n",
    "    print(trade_list)\n",
    "    \n",
    "    return(trade_list)\n",
    "main()"
   ]
  }
 ],
 "metadata": {
  "kernelspec": {
   "display_name": "Python 3",
   "language": "python",
   "name": "python3"
  },
  "language_info": {
   "codemirror_mode": {
    "name": "ipython",
    "version": 3
   },
   "file_extension": ".py",
   "mimetype": "text/x-python",
   "name": "python",
   "nbconvert_exporter": "python",
   "pygments_lexer": "ipython3",
   "version": "3.8.5"
  }
 },
 "nbformat": 4,
 "nbformat_minor": 4
}
