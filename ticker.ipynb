{
 "cells": [
  {
   "cell_type": "code",
   "execution_count": 41,
   "metadata": {},
   "outputs": [
    {
     "name": "stdout",
     "output_type": "stream",
     "text": [
      "  symbol                       company_name  last_price   volume\n",
      "0   WISH                  ContextLogic Inc.       13.50  326.006\n",
      "1   TRCH  Torchlight Energy Resources, Inc.        9.92  371.420\n",
      "4   GSAT                   Globalstar, Inc.        1.51  155.832\n"
     ]
    }
   ],
   "source": [
    "import pandas as pd\n",
    "import numpy as np\n",
    "from bs4 import BeautifulSoup\n",
    "import requests\n",
    "\n",
    "def trending_ticker():\n",
    "    URL = \"https://finance.yahoo.com/trending-tickers\"\n",
    "    dat = requests.get(URL)\n",
    "\n",
    "    soup = BeautifulSoup(dat.text)\n",
    "    top_ticker = []\n",
    "    last_price = []\n",
    "    ticker_name = []\n",
    "    volume = []\n",
    "\n",
    "    for listing in soup.find_all('tr', attrs={'class':'simpTblRow'}):\n",
    "\n",
    "        for individual in listing.find_all('td', attrs={'aria-label':'Symbol'}):\n",
    "          top_ticker.append(individual.text)\n",
    "\n",
    "        for individual in listing.find_all('td', attrs={'aria-label':'Name'}):\n",
    "          ticker_name.append(individual.text)\n",
    "\n",
    "        for individual in listing.find_all('td', attrs={'aria-label':'Last Price'}):\n",
    "          last_price.append(individual.text)\n",
    "\n",
    "        for individual in listing.find_all('td', attrs={'aria-label':'Volume'}):\n",
    "          volume.append(individual.text)\n",
    "\n",
    "    fin_dat = pd.DataFrame()\n",
    "    \n",
    "    fin_dat['symbol'] = top_ticker\n",
    "    fin_dat['company_name'] = ticker_name\n",
    "    fin_dat['last_price'] = last_price\n",
    "    fin_dat['volume'] = volume\n",
    "    \n",
    "    # pruning\n",
    "    fin_dat[\"last_price\"] = fin_dat[\"last_price\"].str.replace(',','')\n",
    "    fin_dat[\"last_price\"] = pd.to_numeric(fin_dat[\"last_price\"])\n",
    "    fin_dat[\"volume\"] = fin_dat[\"volume\"].str.replace(',','')\n",
    "    fin_dat[\"volume\"] = fin_dat[\"volume\"].str.replace('M','')\n",
    "    fin_dat.loc[fin_dat['volume'].str.contains('B'), 'volume'] = '1000'\n",
    "    \n",
    "    fin_dat[\"volume\"] = fin_dat[\"volume\"].str.replace('B','')\n",
    "    fin_dat[\"volume\"] = pd.to_numeric(fin_dat[\"volume\"])\n",
    "    \n",
    "    # REMOVE CRYPTO\n",
    "    fin_dat = fin_dat[~fin_dat[\"symbol\"].str.contains(\"USD\")]\n",
    "    fin_dat = fin_dat[~fin_dat[\"symbol\"].str.contains(\"CAD\")]\n",
    "    \n",
    "    # limit to volume to tickers above 100 million\n",
    "    fin_dat = fin_dat[fin_dat['volume'] >= 100.0] \n",
    "    \n",
    "    return fin_dat\n",
    "\n",
    "print(trending_ticker())"
   ]
  }
 ],
 "metadata": {
  "kernelspec": {
   "display_name": "Python 3",
   "language": "python",
   "name": "python3"
  },
  "language_info": {
   "codemirror_mode": {
    "name": "ipython",
    "version": 3
   },
   "file_extension": ".py",
   "mimetype": "text/x-python",
   "name": "python",
   "nbconvert_exporter": "python",
   "pygments_lexer": "ipython3",
   "version": "3.8.5"
  }
 },
 "nbformat": 4,
 "nbformat_minor": 4
}
